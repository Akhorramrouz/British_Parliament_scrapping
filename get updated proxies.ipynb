{
 "cells": [
  {
   "cell_type": "code",
   "execution_count": 22,
   "id": "42988444",
   "metadata": {},
   "outputs": [],
   "source": [
    "from selenium import webdriver\n",
    "import pandas as pd\n",
    "import requests\n",
    "from bs4 import BeautifulSoup\n",
    "driver = webdriver.Chrome()\n",
    "import time\n",
    "\n",
    "while True:\n",
    "    # website 1\n",
    "    driver.get(\"https://proxyscrape.com/free-proxy-list\")\n",
    "    driver.implicitly_wait(1)\n",
    "    time.sleep(1)\n",
    "    pg_src = driver.page_source\n",
    "    df1 = pd.read_html(pg_src)[0].query(\"Protocol == 'HTTP'\")\n",
    "    df1 = df1[df1['Alive since'].str.contains(\"min\")]\n",
    "    df1['latency'] = df1.Latency.apply(lambda x:x[:-2])\n",
    "    df1['proxy'] = df1.apply(lambda x:str(x['IP Address'])+\":\"+str(x['Port']),axis=1)\n",
    "\n",
    "\n",
    "\n",
    "    # website 2\n",
    "    driver.get(\"https://scrapingant.com/free-proxies/\")\n",
    "    driver.implicitly_wait(1)\n",
    "    time.sleep(1)\n",
    "    pg_src = driver.page_source\n",
    "    df2 = pd.read_html(pg_src)[0].query(\"Protocol == 'HTTP'\")\n",
    "    df2['proxy'] = df2.apply(lambda x:str(x['IP'])+\":\"+str(x['Port']),axis=1)\n",
    "\n",
    "    df = pd.concat([df1[\"proxy\"], df2[\"proxy\"]])\n",
    "    df.to_csv(\"final_proxy_list.csv\", index=False)\n",
    "    time.sleep(8*57)"
   ]
  }
 ],
 "metadata": {
  "kernelspec": {
   "display_name": "Python 3 (ipykernel)",
   "language": "python",
   "name": "python3"
  },
  "language_info": {
   "codemirror_mode": {
    "name": "ipython",
    "version": 3
   },
   "file_extension": ".py",
   "mimetype": "text/x-python",
   "name": "python",
   "nbconvert_exporter": "python",
   "pygments_lexer": "ipython3",
   "version": "3.9.13"
  }
 },
 "nbformat": 4,
 "nbformat_minor": 5
}
