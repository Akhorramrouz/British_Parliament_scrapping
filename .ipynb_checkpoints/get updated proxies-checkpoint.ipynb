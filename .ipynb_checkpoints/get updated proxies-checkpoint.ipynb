{
 "cells": [
  {
   "cell_type": "code",
   "execution_count": 22,
   "id": "42988444",
   "metadata": {},
   "outputs": [],
   "source": [
    "from selenium import webdriver\n",
    "import pandas as pd\n",
    "import requests\n",
    "from bs4 import BeautifulSoup\n",
    "driver = webdriver.Chrome()\n",
    "import time\n",
    "\n",
    "while True:\n",
    "    driver.get(\"https://proxyscrape.com/free-proxy-list\")\n",
    "    driver.implicitly_wait(1)\n",
    "    time.sleep(1)\n",
    "    pg_src = driver.page_source\n",
    "    df = pd.read_html(pg_src)[0].query(\"Protocol == 'HTTP'\")\n",
    "    df = df[df['Alive since'].str.contains(\"min\")]\n",
    "    df['latency'] = df.Latency.apply(lambda x:x[:-2])\n",
    "    df['proxy'] = None\n",
    "    df['proxy'] = df.apply(lambda x:str(x['IP Address'])+\":\"+str(x['Port']),axis=1)\n",
    "    df['proxy'].to_csv('final_proxy.csv')\n",
    "    time.sleep(8*57)"
   ]
  }
 ],
 "metadata": {
  "kernelspec": {
   "display_name": "Python 3 (ipykernel)",
   "language": "python",
   "name": "python3"
  },
  "language_info": {
   "codemirror_mode": {
    "name": "ipython",
    "version": 3
   },
   "file_extension": ".py",
   "mimetype": "text/x-python",
   "name": "python",
   "nbconvert_exporter": "python",
   "pygments_lexer": "ipython3",
   "version": "3.9.13"
  }
 },
 "nbformat": 4,
 "nbformat_minor": 5
}
